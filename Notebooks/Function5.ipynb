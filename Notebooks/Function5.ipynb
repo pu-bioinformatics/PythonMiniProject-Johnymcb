{
 "cells": [
  {
   "cell_type": "markdown",
   "metadata": {},
   "source": [
    "## Function1"
   ]
  },
  {
   "cell_type": "code",
   "execution_count": 2,
   "metadata": {},
   "outputs": [
    {
     "name": "stdin",
     "output_type": "stream",
     "text": [
      "enter path: /Users/johnoketch/Python_lessons/PythonMiniProject-Johnymcb/1zni.pdb\n"
     ]
    },
    {
     "name": "stdout",
     "output_type": "stream",
     "text": [
      "file successfuly loaded\n"
     ]
    }
   ],
   "source": [
    "from pathlib import Path\n",
    "#filename = Path('/Users/johnoketch/Python_lessons/PythonMiniProject-Johnymcb/1g1c.pdb')\n",
    "filename = Path(input('enter path:'))\n",
    "\n",
    "load1 = ''\n",
    "#print(load1)\n",
    "#print(currentFile)\n",
    "#print(filename.suffix)\n",
    "#print(filename.stem)\n",
    "if  filename.exists():\n",
    "    print('file successfuly loaded')\n",
    "    currentFile = filename.name\n",
    "else:\n",
    "    print('Enter a Valid Path for a PDB file: %s'%filename.name)"
   ]
  },
  {
   "cell_type": "code",
   "execution_count": 6,
   "metadata": {},
   "outputs": [],
   "source": [
    "from pathlib import Path\n",
    "def fileExport(currentfile):\n",
    "    file = currentfile\n",
    "    with open(file) as my_PDB_file:\n",
    "        data =  my_PDB_file.read()\n",
    "        filename = Path(input('enter file path:'))\n",
    "        if filename.exists():\n",
    "            print(\"The file exist,enter newfile name 'renterpath'\")\n",
    "            filename = Path(input('enter path:'))\n",
    "            with open(filename, 'w') as newfile:\n",
    "                newfile.write(data)\n",
    "        else:\n",
    "            with open(filename, 'w') as newfile:\n",
    "                newfile.write(data)\n",
    "        "
   ]
  },
  {
   "cell_type": "code",
   "execution_count": 7,
   "metadata": {},
   "outputs": [
    {
     "name": "stdin",
     "output_type": "stream",
     "text": [
      "enter file path: /Users/johnoketch/Python_lessons/PythonMiniProject-Johnymcb/1zni.pdb\n"
     ]
    },
    {
     "name": "stdout",
     "output_type": "stream",
     "text": [
      "The file exist,enter newfile name 'renterpath'\n"
     ]
    },
    {
     "name": "stdin",
     "output_type": "stream",
     "text": [
      "enter path: /Users/johnoketch/Python_lessons/PythonMiniProject-Johnymcb/1znii.pdb\n"
     ]
    }
   ],
   "source": [
    "fileExport(currentFile)"
   ]
  },
  {
   "cell_type": "code",
   "execution_count": null,
   "metadata": {},
   "outputs": [],
   "source": []
  }
 ],
 "metadata": {
  "kernelspec": {
   "display_name": "Python 3",
   "language": "python",
   "name": "python3"
  },
  "language_info": {
   "codemirror_mode": {
    "name": "ipython",
    "version": 3
   },
   "file_extension": ".py",
   "mimetype": "text/x-python",
   "name": "python",
   "nbconvert_exporter": "python",
   "pygments_lexer": "ipython3",
   "version": "3.7.2"
  }
 },
 "nbformat": 4,
 "nbformat_minor": 2
}
