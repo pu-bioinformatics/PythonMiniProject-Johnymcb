{
 "cells": [
  {
   "cell_type": "code",
   "execution_count": 3,
   "metadata": {},
   "outputs": [
    {
     "name": "stdin",
     "output_type": "stream",
     "text": [
      "enter path: 3ayu.pdb\n"
     ]
    },
    {
     "name": "stdout",
     "output_type": "stream",
     "text": [
      "file successfuly loaded\n",
      ": \u001b[1;31mH\u001b[1;m\n",
      "Choose an option to order by:\n",
      "  number of amino acids - ascending       (an)\n",
      "  number of amino acids - descending      (dn)\n",
      "  alphabetically - ascending              (aa)\n",
      "  alphabetically - descending             (da)\n"
     ]
    },
    {
     "name": "stdin",
     "output_type": "stream",
     "text": [
      "Enter \"an\" for option 1,\"dn\" for option 2,\"aa\" for option 3,\"da\" for option 4 or \"m\" to quit: aa\n"
     ]
    },
    {
     "name": "stdout",
     "output_type": "stream",
     "text": [
      "Order by :\u001b[1;31maa\u001b[1;m\n",
      "ALA ( 15) : ***************\n",
      "ARG (  7) : *******\n",
      "ASN (  5) : *****\n",
      "ASP ( 20) : ********************\n",
      "GLN (  5) : *****\n",
      "GLU (  6) : ******\n",
      "GLY ( 20) : ********************\n",
      "HIS (  7) : *******\n",
      "ILE ( 10) : **********\n",
      "LEU ( 13) : *************\n",
      "LYS (  7) : *******\n",
      "MET (  4) : ****\n",
      "PHE ( 12) : ************\n",
      "PRO ( 11) : ***********\n",
      "SER (  8) : ********\n",
      "THR (  8) : ********\n",
      "TRP (  4) : ****\n",
      "TYR (  9) : *********\n",
      "VAL (  6) : ******\n"
     ]
    },
    {
     "name": "stdin",
     "output_type": "stream",
     "text": [
      "Enter \"an\" for option 1,\"dn\" for option 2,\"aa\" for option 3,\"da\" for option 4 or \"m\" to quit: dn\n"
     ]
    },
    {
     "name": "stdout",
     "output_type": "stream",
     "text": [
      "Order by :\u001b[1;31mdn\u001b[1;m\n",
      "ASP ( 20) : ********************\n",
      "GLY ( 20) : ********************\n",
      "ALA ( 15) : ***************\n",
      "LEU ( 13) : *************\n",
      "PHE ( 12) : ************\n",
      "PRO ( 11) : ***********\n",
      "ILE ( 10) : **********\n",
      "TYR (  9) : *********\n",
      "THR (  8) : ********\n",
      "SER (  8) : ********\n",
      "LYS (  7) : *******\n",
      "HIS (  7) : *******\n",
      "ARG (  7) : *******\n",
      "GLU (  6) : ******\n",
      "VAL (  6) : ******\n",
      "ASN (  5) : *****\n",
      "GLN (  5) : *****\n",
      "TRP (  4) : ****\n",
      "MET (  4) : ****\n"
     ]
    },
    {
     "name": "stdin",
     "output_type": "stream",
     "text": [
      "Enter \"an\" for option 1,\"dn\" for option 2,\"aa\" for option 3,\"da\" for option 4 or \"m\" to quit: m\n"
     ]
    }
   ],
   "source": [
    "from pathlib import Path\n",
    "def AminoAcid_histogram(currentFile): #final, prints No. of amino acid,helix and sheet info. by call seqprint function\n",
    "    with open(currentFile) as fileIn:\n",
    "            line = fileIn.readline()\n",
    "            sequence_raw=[]\n",
    "            star = '*'\n",
    "            while line:\n",
    "                if line.startswith('SEQRES'):\n",
    "                    words = line.split()\n",
    "                    for word in words:\n",
    "                        if word in aminoacidsCode.values():\n",
    "                                sequence_raw.append(word)\n",
    "                line = fileIn.readline()\n",
    "            #print(sequence_raw)\n",
    "            base_count = dict((base, sequence_raw.count(base)) for base in set(sequence_raw))\n",
    "            #print(base_count)\n",
    "            print(': \\033[1;31mH\\033[1;m')\n",
    "            print('Choose an option to order by:')\n",
    "            print('{0:2s}number of amino acids - ascending {0:6s}(an)'.format(\"\"))\n",
    "            print('{0:2s}number of amino acids - descending {0:5s}(dn)'.format(\"\"))\n",
    "            print('{0:2s}alphabetically - ascending {0:13s}(aa)'.format(\"\"))\n",
    "            print('{0:2s}alphabetically - descending {0:12s}(da)'.format(\"\"))\n",
    "            choice = input('Enter \"an\" for option 1,\"dn\" for option 2,\"aa\" for option 3,\"da\" for option 4 or \"m\" to quit:')\n",
    "            #print('Order by :%s'%choice.lower())\n",
    "            while choice !='m':\n",
    "                if choice.lower() in ('an','dn','aa','da'):\n",
    "                    if choice.lower() == 'an':\n",
    "                        print('Order by :\\033[1;31m%s\\033[1;m'%choice.lower())\n",
    "                        for key, value in sorted(base_count.items(), key=lambda item: item[1]):\n",
    "                            print(\"%s ( %2s)\" % (key, value),\": %s\" %(star*int(value)))\n",
    "\n",
    "                    elif choice.lower() == 'dn':\n",
    "                        print('Order by :\\033[1;31m%s\\033[1;m'%choice.lower())\n",
    "                        for key, value in sorted(base_count.items(), key=lambda item: item[1], reverse = True):\n",
    "                            print(\"%s ( %2s)\"  %(key, value),\": %s\" %(star*int(value)))\n",
    "\n",
    "                    elif choice.lower() == 'aa':\n",
    "                        print('Order by :\\033[1;31m%s\\033[1;m'%choice.lower())\n",
    "                        for key in sorted(base_count):\n",
    "                            print('%s ( %2s)' %(key,base_count[key]),\": %s\"%(star*int(base_count[key])))\n",
    "\n",
    "                    elif choice.lower() == 'da':\n",
    "                        print('Order by :\\033[1;31m%s\\033[1;m'%choice.lower())\n",
    "                        for key in sorted(base_count,reverse = True):\n",
    "                            print('%s ( %2s)'%(key,base_count[key]),\": %s\"%(star*int(base_count[key])))\n",
    "\n",
    "                else:\n",
    "                    print('Wrong choice')\n",
    "                    #choice = input('Enter \"an\" for option 1,\"dn\" for option 2,\"aa\" for option 3,\"da\" for option 4 or \"m\" to quit')\n",
    "                choice = input('Enter \"an\" for option 1,\"dn\" for option 2,\"aa\" for option 3,\"da\" for option 4 or \"m\" to quit:')\n",
    "                #print('Order by :%s'%choice.lower())\n",
    "\n",
    "                        \n",
    "                              \n",
    "aminoacidsCode = {1:'ALA', 2: 'CYS',3: 'ASP',4:'GLU',5:'PHE',6:'GLY',7:'HIS',8:'ILE',9:'LYS',10:'LEU',11: 'MET',\n",
    "             12:'ASN',13:'PRO',14: 'GLN',15:'ARG',16:'SER',17:'THR',18:'VAL',19:'TRP',20:'TYR'}\n",
    "\n",
    "def main():\n",
    "    from pathlib import Path\n",
    "\n",
    "    filename = Path(input('enter path:'))\n",
    "\n",
    "\n",
    "    if  filename.exists():\n",
    "        print('file successfuly loaded')\n",
    "        currentFile = filename.name\n",
    "        AminoAcid_histogram(currentFile)\n",
    "        \n",
    "    else:\n",
    "        print('Enter a Valid Path for a PDB file: %s'%filename.name)\n",
    "\n",
    "main() "
   ]
  },
  {
   "cell_type": "code",
   "execution_count": 5,
   "metadata": {},
   "outputs": [
    {
     "name": "stdout",
     "output_type": "stream",
     "text": [
      "          this is a text\n"
     ]
    }
   ],
   "source": [
    "print('{0:10s}this is a text'.format(\"\"))"
   ]
  },
  {
   "cell_type": "code",
   "execution_count": null,
   "metadata": {},
   "outputs": [],
   "source": []
  }
 ],
 "metadata": {
  "kernelspec": {
   "display_name": "Python 3",
   "language": "python",
   "name": "python3"
  },
  "language_info": {
   "codemirror_mode": {
    "name": "ipython",
    "version": 3
   },
   "file_extension": ".py",
   "mimetype": "text/x-python",
   "name": "python",
   "nbconvert_exporter": "python",
   "pygments_lexer": "ipython3",
   "version": "3.7.2"
  }
 },
 "nbformat": 4,
 "nbformat_minor": 2
}
